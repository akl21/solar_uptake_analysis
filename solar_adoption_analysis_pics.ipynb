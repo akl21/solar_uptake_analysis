{
 "cells": [
  {
   "cell_type": "code",
   "execution_count": 1,
   "id": "e8482c3c",
   "metadata": {},
   "outputs": [],
   "source": [
    "#import modules\n",
    "import pandas as pd\n",
    "import numpy as np"
   ]
  },
  {
   "cell_type": "code",
   "execution_count": 2,
   "id": "973209f1",
   "metadata": {},
   "outputs": [],
   "source": [
    "#provide encoding as latin1 to remediate bytes encoding error\n",
    "#use the fips column as the index. fips is the census tract number\n",
    "solar_df = pd.read_csv('deepsolar_tract.csv', engine = 'python', encoding = 'latin1', index_col = 'fips')"
   ]
  },
  {
   "cell_type": "code",
   "execution_count": 3,
   "id": "04ced53f",
   "metadata": {},
   "outputs": [
    {
     "data": {
      "text/html": [
       "<div>\n",
       "<style scoped>\n",
       "    .dataframe tbody tr th:only-of-type {\n",
       "        vertical-align: middle;\n",
       "    }\n",
       "\n",
       "    .dataframe tbody tr th {\n",
       "        vertical-align: top;\n",
       "    }\n",
       "\n",
       "    .dataframe thead th {\n",
       "        text-align: right;\n",
       "    }\n",
       "</style>\n",
       "<table border=\"1\" class=\"dataframe\">\n",
       "  <thead>\n",
       "    <tr style=\"text-align: right;\">\n",
       "      <th></th>\n",
       "      <th>tile_count</th>\n",
       "      <th>solar_system_count</th>\n",
       "      <th>total_panel_area</th>\n",
       "      <th>average_household_income</th>\n",
       "      <th>county</th>\n",
       "      <th>education_bachelor</th>\n",
       "      <th>education_college</th>\n",
       "      <th>education_doctoral</th>\n",
       "      <th>education_high_school_graduate</th>\n",
       "      <th>education_less_than_high_school</th>\n",
       "      <th>...</th>\n",
       "      <th>incentive_count_nonresidential</th>\n",
       "      <th>incentive_residential_state_level</th>\n",
       "      <th>incentive_nonresidential_state_level</th>\n",
       "      <th>net_metering</th>\n",
       "      <th>feedin_tariff</th>\n",
       "      <th>cooperate_tax</th>\n",
       "      <th>property_tax</th>\n",
       "      <th>sales_tax</th>\n",
       "      <th>rebate</th>\n",
       "      <th>avg_electricity_retail_rate</th>\n",
       "    </tr>\n",
       "    <tr>\n",
       "      <th>fips</th>\n",
       "      <th></th>\n",
       "      <th></th>\n",
       "      <th></th>\n",
       "      <th></th>\n",
       "      <th></th>\n",
       "      <th></th>\n",
       "      <th></th>\n",
       "      <th></th>\n",
       "      <th></th>\n",
       "      <th></th>\n",
       "      <th></th>\n",
       "      <th></th>\n",
       "      <th></th>\n",
       "      <th></th>\n",
       "      <th></th>\n",
       "      <th></th>\n",
       "      <th></th>\n",
       "      <th></th>\n",
       "      <th></th>\n",
       "      <th></th>\n",
       "      <th></th>\n",
       "    </tr>\n",
       "  </thead>\n",
       "  <tbody>\n",
       "    <tr>\n",
       "      <th>27145011200</th>\n",
       "      <td>0</td>\n",
       "      <td>0</td>\n",
       "      <td>0.000000</td>\n",
       "      <td>70352.78987</td>\n",
       "      <td>Stearns County</td>\n",
       "      <td>569</td>\n",
       "      <td>1690</td>\n",
       "      <td>13</td>\n",
       "      <td>1757</td>\n",
       "      <td>336</td>\n",
       "      <td>...</td>\n",
       "      <td>39</td>\n",
       "      <td>11</td>\n",
       "      <td>13</td>\n",
       "      <td>34</td>\n",
       "      <td>0</td>\n",
       "      <td>0</td>\n",
       "      <td>25</td>\n",
       "      <td>12</td>\n",
       "      <td>0</td>\n",
       "      <td>9.46</td>\n",
       "    </tr>\n",
       "    <tr>\n",
       "      <th>27145011301</th>\n",
       "      <td>25</td>\n",
       "      <td>21</td>\n",
       "      <td>1133.436461</td>\n",
       "      <td>61727.08520</td>\n",
       "      <td>Stearns County</td>\n",
       "      <td>674</td>\n",
       "      <td>1434</td>\n",
       "      <td>108</td>\n",
       "      <td>767</td>\n",
       "      <td>222</td>\n",
       "      <td>...</td>\n",
       "      <td>39</td>\n",
       "      <td>11</td>\n",
       "      <td>13</td>\n",
       "      <td>34</td>\n",
       "      <td>0</td>\n",
       "      <td>0</td>\n",
       "      <td>25</td>\n",
       "      <td>12</td>\n",
       "      <td>0</td>\n",
       "      <td>9.46</td>\n",
       "    </tr>\n",
       "    <tr>\n",
       "      <th>27145011302</th>\n",
       "      <td>3</td>\n",
       "      <td>3</td>\n",
       "      <td>64.505776</td>\n",
       "      <td>71496.88658</td>\n",
       "      <td>Stearns County</td>\n",
       "      <td>854</td>\n",
       "      <td>1459</td>\n",
       "      <td>31</td>\n",
       "      <td>1541</td>\n",
       "      <td>289</td>\n",
       "      <td>...</td>\n",
       "      <td>39</td>\n",
       "      <td>11</td>\n",
       "      <td>13</td>\n",
       "      <td>34</td>\n",
       "      <td>0</td>\n",
       "      <td>0</td>\n",
       "      <td>25</td>\n",
       "      <td>12</td>\n",
       "      <td>0</td>\n",
       "      <td>9.46</td>\n",
       "    </tr>\n",
       "    <tr>\n",
       "      <th>27145011304</th>\n",
       "      <td>0</td>\n",
       "      <td>0</td>\n",
       "      <td>0.000000</td>\n",
       "      <td>86840.15275</td>\n",
       "      <td>Stearns County</td>\n",
       "      <td>640</td>\n",
       "      <td>1116</td>\n",
       "      <td>68</td>\n",
       "      <td>1095</td>\n",
       "      <td>231</td>\n",
       "      <td>...</td>\n",
       "      <td>39</td>\n",
       "      <td>11</td>\n",
       "      <td>13</td>\n",
       "      <td>34</td>\n",
       "      <td>0</td>\n",
       "      <td>0</td>\n",
       "      <td>25</td>\n",
       "      <td>12</td>\n",
       "      <td>0</td>\n",
       "      <td>9.46</td>\n",
       "    </tr>\n",
       "    <tr>\n",
       "      <th>27145011400</th>\n",
       "      <td>5</td>\n",
       "      <td>5</td>\n",
       "      <td>164.583303</td>\n",
       "      <td>89135.31560</td>\n",
       "      <td>Stearns County</td>\n",
       "      <td>654</td>\n",
       "      <td>1314</td>\n",
       "      <td>15</td>\n",
       "      <td>982</td>\n",
       "      <td>163</td>\n",
       "      <td>...</td>\n",
       "      <td>39</td>\n",
       "      <td>11</td>\n",
       "      <td>13</td>\n",
       "      <td>34</td>\n",
       "      <td>0</td>\n",
       "      <td>0</td>\n",
       "      <td>25</td>\n",
       "      <td>12</td>\n",
       "      <td>0</td>\n",
       "      <td>9.46</td>\n",
       "    </tr>\n",
       "  </tbody>\n",
       "</table>\n",
       "<p>5 rows × 167 columns</p>\n",
       "</div>"
      ],
      "text/plain": [
       "             tile_count  solar_system_count  total_panel_area  \\\n",
       "fips                                                            \n",
       "27145011200           0                   0          0.000000   \n",
       "27145011301          25                  21       1133.436461   \n",
       "27145011302           3                   3         64.505776   \n",
       "27145011304           0                   0          0.000000   \n",
       "27145011400           5                   5        164.583303   \n",
       "\n",
       "             average_household_income          county  education_bachelor  \\\n",
       "fips                                                                        \n",
       "27145011200               70352.78987  Stearns County                 569   \n",
       "27145011301               61727.08520  Stearns County                 674   \n",
       "27145011302               71496.88658  Stearns County                 854   \n",
       "27145011304               86840.15275  Stearns County                 640   \n",
       "27145011400               89135.31560  Stearns County                 654   \n",
       "\n",
       "             education_college  education_doctoral  \\\n",
       "fips                                                 \n",
       "27145011200               1690                  13   \n",
       "27145011301               1434                 108   \n",
       "27145011302               1459                  31   \n",
       "27145011304               1116                  68   \n",
       "27145011400               1314                  15   \n",
       "\n",
       "             education_high_school_graduate  education_less_than_high_school  \\\n",
       "fips                                                                           \n",
       "27145011200                            1757                              336   \n",
       "27145011301                             767                              222   \n",
       "27145011302                            1541                              289   \n",
       "27145011304                            1095                              231   \n",
       "27145011400                             982                              163   \n",
       "\n",
       "             ...  incentive_count_nonresidential  \\\n",
       "fips         ...                                   \n",
       "27145011200  ...                              39   \n",
       "27145011301  ...                              39   \n",
       "27145011302  ...                              39   \n",
       "27145011304  ...                              39   \n",
       "27145011400  ...                              39   \n",
       "\n",
       "             incentive_residential_state_level  \\\n",
       "fips                                             \n",
       "27145011200                                 11   \n",
       "27145011301                                 11   \n",
       "27145011302                                 11   \n",
       "27145011304                                 11   \n",
       "27145011400                                 11   \n",
       "\n",
       "             incentive_nonresidential_state_level  net_metering  \\\n",
       "fips                                                              \n",
       "27145011200                                    13            34   \n",
       "27145011301                                    13            34   \n",
       "27145011302                                    13            34   \n",
       "27145011304                                    13            34   \n",
       "27145011400                                    13            34   \n",
       "\n",
       "             feedin_tariff  cooperate_tax  property_tax  sales_tax  rebate  \\\n",
       "fips                                                                         \n",
       "27145011200              0              0            25         12       0   \n",
       "27145011301              0              0            25         12       0   \n",
       "27145011302              0              0            25         12       0   \n",
       "27145011304              0              0            25         12       0   \n",
       "27145011400              0              0            25         12       0   \n",
       "\n",
       "             avg_electricity_retail_rate  \n",
       "fips                                      \n",
       "27145011200                         9.46  \n",
       "27145011301                         9.46  \n",
       "27145011302                         9.46  \n",
       "27145011304                         9.46  \n",
       "27145011400                         9.46  \n",
       "\n",
       "[5 rows x 167 columns]"
      ]
     },
     "execution_count": 3,
     "metadata": {},
     "output_type": "execute_result"
    }
   ],
   "source": [
    "#look at the beginning of the data frame\n",
    "solar_df.head()"
   ]
  },
  {
   "cell_type": "code",
   "execution_count": 4,
   "id": "b92c7f9c",
   "metadata": {},
   "outputs": [
    {
     "data": {
      "text/plain": [
       "array([[<AxesSubplot:title={'center':'total_panel_area'}>]], dtype=object)"
      ]
     },
     "execution_count": 4,
     "metadata": {},
     "output_type": "execute_result"
    },
    {
     "data": {
      "image/png": "[encoded data removed]",
      "text/plain": [
       "<Figure size 432x288 with 1 Axes>"
      ]
     },
     "metadata": {
      "needs_background": "light"
     },
     "output_type": "display_data"
    }
   ],
   "source": [
    "#create a histogram of the column total_panel_area\n",
    "solar_df.hist(column = 'total_panel_area', color = 'orange', bins = 50)"
   ]
  },
  {
   "cell_type": "code",
   "execution_count": 5,
   "id": "4be2915a",
   "metadata": {},
   "outputs": [
    {
     "data": {
      "text/plain": [
       "array([[<AxesSubplot:title={'center':'total_panel_area'}>]], dtype=object)"
      ]
     },
     "execution_count": 5,
     "metadata": {},
     "output_type": "execute_result"
    },
    {
     "data": {
      "image/png": "[encoded data removed]",
      "text/plain": [
       "<Figure size 432x288 with 1 Axes>"
      ]
     },
     "metadata": {
      "needs_background": "light"
     },
     "output_type": "display_data"
    }
   ],
   "source": [
    "#creat a hisogram of the total_panel_area for all rows where total_panel_area < 90th percentile of total_panel_area\n",
    "p90 = solar_df['total_panel_area'].quantile(q = 0.9)\n",
    "solar_df[solar_df['total_panel_area'] < p90].hist(column = 'total_panel_area', color = 'orange', bins = 50)"
   ]
  },
  {
   "cell_type": "code",
   "execution_count": 6,
   "id": "911c39d3",
   "metadata": {},
   "outputs": [
    {
     "data": {
      "text/plain": [
       "array([[<AxesSubplot:title={'center':'total_panel_area'}>]], dtype=object)"
      ]
     },
     "execution_count": 6,
     "metadata": {},
     "output_type": "execute_result"
    },
    {
     "data": {
      "image/png": "[encoded data removed]",
      "text/plain": [
       "<Figure size 432x288 with 1 Axes>"
      ]
     },
     "metadata": {
      "needs_background": "light"
     },
     "output_type": "display_data"
    }
   ],
   "source": [
    "#create a histogram of the total_panel_area that is greater than the 10th percentile and less than the 90th percentile\n",
    "p10 = solar_df['total_panel_area'].quantile(q = 0.1)\n",
    "solar_df[((solar_df['total_panel_area'] < p90) & (solar_df['total_panel_area'] > p10))].hist(column = 'total_panel_area',\\\n",
    "                                                                                              color = 'orange', bins = 50)"
   ]
  },
  {
   "cell_type": "code",
   "execution_count": 5,
   "id": "96242e05",
   "metadata": {},
   "outputs": [
    {
     "data": {
      "text/plain": [
       "1535"
      ]
     },
     "execution_count": 5,
     "metadata": {},
     "output_type": "execute_result"
    }
   ],
   "source": [
    "#what is the max solar_system_count?\n",
    "solar_df['solar_system_count'].max()"
   ]
  },
  {
   "cell_type": "code",
   "execution_count": 6,
   "id": "a22dfc13",
   "metadata": {},
   "outputs": [
    {
     "data": {
      "text/plain": [
       "6107001003"
      ]
     },
     "execution_count": 6,
     "metadata": {},
     "output_type": "execute_result"
    }
   ],
   "source": [
    "#which fips is the max solar_system_count in?\n",
    "solar_df['solar_system_count'].idxmax()"
   ]
  },
  {
   "cell_type": "code",
   "execution_count": 7,
   "id": "61f32378",
   "metadata": {},
   "outputs": [
    {
     "data": {
      "text/plain": [
       "county    Tulare County\n",
       "state                ca\n",
       "Name: 6107001003, dtype: object"
      ]
     },
     "execution_count": 7,
     "metadata": {},
     "output_type": "execute_result"
    }
   ],
   "source": [
    "#which county and state is the max solar_system_count in?\n",
    "solar_df.loc[solar_df['solar_system_count'].idxmax(), ['county','state']]"
   ]
  },
  {
   "cell_type": "code",
   "execution_count": 10,
   "id": "67437c62",
   "metadata": {},
   "outputs": [
    {
     "data": {
      "text/plain": [
       "county    San Diego County\n",
       "state                   ca\n",
       "Name: 6073017030, dtype: object"
      ]
     },
     "execution_count": 10,
     "metadata": {},
     "output_type": "execute_result"
    }
   ],
   "source": [
    "#which county and state is the second largest solar_system_count in?\n",
    "top_two = solar_df.nlargest(2, 'solar_system_count')\n",
    "top_two.loc[top_two['solar_system_count'].idxmin(), ['county', 'state']]"
   ]
  },
  {
   "cell_type": "code",
   "execution_count": 15,
   "id": "3e4f8399",
   "metadata": {},
   "outputs": [
    {
     "data": {
      "text/plain": [
       "'ny'"
      ]
     },
     "execution_count": 15,
     "metadata": {},
     "output_type": "execute_result"
    }
   ],
   "source": [
    "#which state has the most census tracts with 0 for solar_system_count?\n",
    "no_solar_systems = solar_df[solar_df['solar_system_count'] == 0]\n",
    "states_with_no_solar_systems = no_solar_systems['state'].value_counts()\n",
    "states_with_no_solar_systems.idxmax()"
   ]
  },
  {
   "cell_type": "code",
   "execution_count": 23,
   "id": "afcf3df0",
   "metadata": {},
   "outputs": [
    {
     "data": {
      "text/plain": [
       "'sd'"
      ]
     },
     "execution_count": 23,
     "metadata": {},
     "output_type": "execute_result"
    }
   ],
   "source": [
    "#which state has the minimum sum of solar_system_count?\n",
    "state_count_dict = {}\n",
    "for state in solar_df['state'].unique():\n",
    "    count = solar_df.loc[solar_df['state'] == state, 'solar_system_count'].sum()\n",
    "    state_count_dict[state] = count\n",
    "min(state_count_dict, key = state_count_dict.get)"
   ]
  },
  {
   "cell_type": "code",
   "execution_count": 24,
   "id": "39138fb1",
   "metadata": {},
   "outputs": [
    {
     "data": {
      "text/plain": [
       "'ca'"
      ]
     },
     "execution_count": 24,
     "metadata": {},
     "output_type": "execute_result"
    }
   ],
   "source": [
    "#which state had the maximum sum of solar_system_count?\n",
    "max(state_count_dict, key = state_count_dict.get)"
   ]
  }
 ],
 "metadata": {
  "kernelspec": {
   "display_name": "Python 3 (ipykernel)",
   "language": "python",
   "name": "python3"
  },
  "language_info": {
   "codemirror_mode": {
    "name": "ipython",
    "version": 3
   },
   "file_extension": ".py",
   "mimetype": "text/x-python",
   "name": "python",
   "nbconvert_exporter": "python",
   "pygments_lexer": "ipython3",
   "version": "3.10.5"
  }
 },
 "nbformat": 4,
 "nbformat_minor": 5
}
